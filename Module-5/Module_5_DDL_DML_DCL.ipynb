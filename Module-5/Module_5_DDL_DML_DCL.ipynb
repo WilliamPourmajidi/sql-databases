{
  "cells": [
    {
      "cell_type": "markdown",
      "metadata": {},
      "source": [
        "# Module 5: Beyond Query Language — DDL, DML, and DCL\n",
        "\n",
        "This notebook introduces the SQL sublanguages beyond querying:  \n",
        "- DDL (Data Definition Language)  \n",
        "- DML (Data Manipulation Language)  \n",
        "- DCL (Data Control Language)\n",
        "\n",
        "We will explain each concept and demonstrate its use with SQL commands against the `farmers_market` database."
      ]
    },
    {
      "cell_type": "code",
      "execution_count": 62,
      "metadata": {},
      "outputs": [
        {
          "name": "stdout",
          "output_type": "stream",
          "text": [
            "Successfully connected to farmers_market!\n"
          ]
        }
      ],
      "source": [
        "import mysql.connector\n",
        "import pandas as pd\n",
        "\n",
        "# Establish connection to local MySQL server\n",
        "conn = mysql.connector.connect(\n",
        "    host=\"localhost\",\n",
        "    user=\"root\",  # Never use root in production\n",
        "    password=\"William2025!!\",  # Replace with secure credentials\n",
        "    database=\"farmers_market\"\n",
        ")\n",
        "\n",
        "cursor = conn.cursor()\n",
        "print(f\"Successfully connected to {conn.database}!\")"
      ]
    },
    {
      "cell_type": "markdown",
      "metadata": {},
      "source": [
        "## SQL Sublanguages Overview\n",
        "\n",
        "SQL is divided into several sublanguages:\n",
        "\n",
        "- **DQL** (Data Query Language): `SELECT` — used for reading data (covered in Modules 3 & 4)\n",
        "- **DDL** (Data Definition Language): `CREATE`, `DROP`, `ALTER` — defines structure\n",
        "- **DML** (Data Manipulation Language): `INSERT`, `UPDATE`, `DELETE` — modifies data\n",
        "- **DCL** (Data Control Language): `GRANT`, `REVOKE` — controls access to data"
      ]
    },
    {
      "cell_type": "markdown",
      "metadata": {},
      "source": [
        "## DDL: CREATE VIEW\n",
        "\n",
        "## Difference Between Tables and Views\n",
        "\n",
        "**Tables:**\n",
        "- Physically store data in the database.\n",
        "- Can be modified directly with INSERT, UPDATE, and DELETE statements.\n",
        "- Used for persistent storage of structured data.\n",
        "\n",
        "**Views:**\n",
        "- Are virtual tables based on the result of a SQL query.\n",
        "- Do not store data themselves; they display data from one or more tables.\n",
        "- Cannot always be modified directly (depends on the view definition and database rules).\n",
        "- Useful for simplifying complex queries, providing security, and presenting data in a specific format.\n",
        "\n",
        "\n",
        "We define a new view using the `CREATE VIEW` command.\n",
        "The example below creates a view based on a multi-table join (booth + vendor assignments + vendor).\n",
        "\n"
      ]
    },
    {
      "cell_type": "code",
      "execution_count": 55,
      "metadata": {},
      "outputs": [
        {
          "name": "stdout",
          "output_type": "stream",
          "text": [
            "View 'booth_date_vendors' created successfully.\n"
          ]
        }
      ],
      "source": [
        "# Create a view for vendor booth assignments\n",
        "query = '''\n",
        "CREATE OR REPLACE VIEW farmers_market.booth_date_vendors AS\n",
        "SELECT\n",
        "    b.booth_number,\n",
        "    b.booth_type,\n",
        "    vba.market_date,\n",
        "    v.vendor_id,\n",
        "    v.vendor_name\n",
        "FROM farmers_market.booth AS b\n",
        "LEFT JOIN farmers_market.vendor_booth_assignments AS vba ON b.booth_number = vba.booth_number\n",
        "LEFT JOIN farmers_market.vendor AS v ON v.vendor_id = vba.vendor_id;\n",
        "'''\n",
        "\n",
        "cursor = conn.cursor()\n",
        "cursor.execute(query)\n",
        "cursor.close()\n",
        "print(\"View 'booth_date_vendors' created successfully.\")"
      ]
    },
    {
      "cell_type": "markdown",
      "id": "ff7cc1f3",
      "metadata": {},
      "source": [
        "### Retrive Data from View"
      ]
    },
    {
      "cell_type": "code",
      "execution_count": 56,
      "metadata": {},
      "outputs": [
        {
          "data": {
            "text/html": [
              "<div>\n",
              "<style scoped>\n",
              "    .dataframe tbody tr th:only-of-type {\n",
              "        vertical-align: middle;\n",
              "    }\n",
              "\n",
              "    .dataframe tbody tr th {\n",
              "        vertical-align: top;\n",
              "    }\n",
              "\n",
              "    .dataframe thead th {\n",
              "        text-align: right;\n",
              "    }\n",
              "</style>\n",
              "<table border=\"1\" class=\"dataframe\">\n",
              "  <thead>\n",
              "    <tr style=\"text-align: right;\">\n",
              "      <th></th>\n",
              "      <th>booth_number</th>\n",
              "      <th>booth_type</th>\n",
              "      <th>market_date</th>\n",
              "      <th>vendor_id</th>\n",
              "      <th>vendor_name</th>\n",
              "    </tr>\n",
              "  </thead>\n",
              "  <tbody>\n",
              "    <tr>\n",
              "      <th>0</th>\n",
              "      <td>1</td>\n",
              "      <td>Standard</td>\n",
              "      <td>2019-04-03</td>\n",
              "      <td>3</td>\n",
              "      <td>Mountain View Vegetables</td>\n",
              "    </tr>\n",
              "    <tr>\n",
              "      <th>1</th>\n",
              "      <td>1</td>\n",
              "      <td>Standard</td>\n",
              "      <td>2019-04-06</td>\n",
              "      <td>3</td>\n",
              "      <td>Mountain View Vegetables</td>\n",
              "    </tr>\n",
              "    <tr>\n",
              "      <th>2</th>\n",
              "      <td>1</td>\n",
              "      <td>Standard</td>\n",
              "      <td>2019-04-10</td>\n",
              "      <td>3</td>\n",
              "      <td>Mountain View Vegetables</td>\n",
              "    </tr>\n",
              "    <tr>\n",
              "      <th>3</th>\n",
              "      <td>1</td>\n",
              "      <td>Standard</td>\n",
              "      <td>2019-04-13</td>\n",
              "      <td>3</td>\n",
              "      <td>Mountain View Vegetables</td>\n",
              "    </tr>\n",
              "    <tr>\n",
              "      <th>4</th>\n",
              "      <td>1</td>\n",
              "      <td>Standard</td>\n",
              "      <td>2019-04-17</td>\n",
              "      <td>3</td>\n",
              "      <td>Mountain View Vegetables</td>\n",
              "    </tr>\n",
              "    <tr>\n",
              "      <th>5</th>\n",
              "      <td>1</td>\n",
              "      <td>Standard</td>\n",
              "      <td>2019-04-20</td>\n",
              "      <td>3</td>\n",
              "      <td>Mountain View Vegetables</td>\n",
              "    </tr>\n",
              "    <tr>\n",
              "      <th>6</th>\n",
              "      <td>1</td>\n",
              "      <td>Standard</td>\n",
              "      <td>2019-04-24</td>\n",
              "      <td>3</td>\n",
              "      <td>Mountain View Vegetables</td>\n",
              "    </tr>\n",
              "    <tr>\n",
              "      <th>7</th>\n",
              "      <td>1</td>\n",
              "      <td>Standard</td>\n",
              "      <td>2019-04-27</td>\n",
              "      <td>3</td>\n",
              "      <td>Mountain View Vegetables</td>\n",
              "    </tr>\n",
              "    <tr>\n",
              "      <th>8</th>\n",
              "      <td>1</td>\n",
              "      <td>Standard</td>\n",
              "      <td>2019-05-01</td>\n",
              "      <td>3</td>\n",
              "      <td>Mountain View Vegetables</td>\n",
              "    </tr>\n",
              "    <tr>\n",
              "      <th>9</th>\n",
              "      <td>1</td>\n",
              "      <td>Standard</td>\n",
              "      <td>2019-05-04</td>\n",
              "      <td>3</td>\n",
              "      <td>Mountain View Vegetables</td>\n",
              "    </tr>\n",
              "  </tbody>\n",
              "</table>\n",
              "</div>"
            ],
            "text/plain": [
              "   booth_number booth_type market_date  vendor_id               vendor_name\n",
              "0             1   Standard  2019-04-03          3  Mountain View Vegetables\n",
              "1             1   Standard  2019-04-06          3  Mountain View Vegetables\n",
              "2             1   Standard  2019-04-10          3  Mountain View Vegetables\n",
              "3             1   Standard  2019-04-13          3  Mountain View Vegetables\n",
              "4             1   Standard  2019-04-17          3  Mountain View Vegetables\n",
              "5             1   Standard  2019-04-20          3  Mountain View Vegetables\n",
              "6             1   Standard  2019-04-24          3  Mountain View Vegetables\n",
              "7             1   Standard  2019-04-27          3  Mountain View Vegetables\n",
              "8             1   Standard  2019-05-01          3  Mountain View Vegetables\n",
              "9             1   Standard  2019-05-04          3  Mountain View Vegetables"
            ]
          },
          "execution_count": 56,
          "metadata": {},
          "output_type": "execute_result"
        }
      ],
      "source": [
        "# Retrieve data from the view\n",
        "query = \"SELECT * FROM farmers_market.booth_date_vendors LIMIT 10;\"\n",
        "cursor = conn.cursor()\n",
        "cursor.execute(query)\n",
        "df_view = pd.DataFrame(cursor.fetchall(), columns=[desc[0] for desc in cursor.description])\n",
        "cursor.close()\n",
        "df_view"
      ]
    },
    {
      "cell_type": "markdown",
      "id": "d18b17a8",
      "metadata": {},
      "source": [
        "## DDL: CREATE TABLE\n",
        "\n",
        "We define a new table using the `CREATE TABLE` command.\n",
        "The example below creates a view based on a multi-table join (booth + vendor assignments + vendor)."
      ]
    },
    {
      "cell_type": "code",
      "execution_count": 70,
      "id": "8567f65a",
      "metadata": {},
      "outputs": [
        {
          "name": "stdout",
          "output_type": "stream",
          "text": [
            "Table 'volunteers' created successfully.\n"
          ]
        }
      ],
      "source": [
        "# Create the volunteers table with three fields\n",
        "query = '''\n",
        "CREATE TABLE IF NOT EXISTS farmers_market.volunteers (\n",
        "    volunteer_id INT AUTO_INCREMENT PRIMARY KEY,\n",
        "    volunteer_name VARCHAR(50) NOT NULL,\n",
        "    volunteer_last_name VARCHAR(50) NOT NULL\n",
        ");\n",
        "'''\n",
        "\n",
        "cursor = conn.cursor()\n",
        "cursor.execute(query)\n",
        "conn.commit()\n",
        "cursor.close()\n",
        "print(\"Table 'volunteers' created successfully.\")"
      ]
    },
    {
      "cell_type": "markdown",
      "metadata": {},
      "source": [
        "## DDL: DROP TABLE\n",
        "\n",
        "The `DROP` statement permanently removes a table.  \n",
        " \n",
        "## RESTRICT vs CASCADE in DROP Statements\n",
        "\n",
        "- **RESTRICT:** Prevents the table or view from being dropped if it is referenced by another object (such as a foreign key or another view). The drop operation will fail if dependencies exist.\n",
        "- **CASCADE:** Automatically drops the table or view and all dependent objects (such as foreign key constraints, views, or other related objects). Use with caution, as this can remove more than just the specified object.\n",
        "\n",
        "**Example:**\n",
        "- `DROP TABLE my_table RESTRICT;` — Fails if other tables depend on `my_table`.\n",
        "- `DROP TABLE my_table CASCADE;` — Drops `my_table` and any dependent objects."
      ]
    },
    {
      "cell_type": "code",
      "execution_count": 69,
      "metadata": {},
      "outputs": [
        {
          "name": "stdout",
          "output_type": "stream",
          "text": [
            "DROP TABLE (RESTRICT option).\n"
          ]
        }
      ],
      "source": [
        "# Example: Drop table with RESTRICT or CASCADE (simulated, not executed)\n",
        "drop_query = \"DROP TABLE IF EXISTS farmers_market.volunteers RESTRICT;\"\n",
        "\n",
        "\n",
        "cursor = conn.cursor()\n",
        "cursor.execute(drop_query)   \n",
        "conn.commit()\n",
        "cursor.close()\n",
        "\n",
        "\n",
        "\n",
        "\n",
        "print(\"DROP TABLE (RESTRICT option).\")"
      ]
    },
    {
      "cell_type": "markdown",
      "metadata": {},
      "source": [
        "## DDL: ALTER TABLE\n",
        "\n",
        "The `ALTER TABLE` command allows you to modify the structure of existing tables."
      ]
    },
    {
      "cell_type": "code",
      "execution_count": 72,
      "id": "9610570f",
      "metadata": {},
      "outputs": [
        {
          "ename": "ProgrammingError",
          "evalue": "1060 (42S21): Duplicate column name 'email'",
          "output_type": "error",
          "traceback": [
            "\u001b[31m---------------------------------------------------------------------------\u001b[39m",
            "\u001b[31mMySQLInterfaceError\u001b[39m                       Traceback (most recent call last)",
            "\u001b[36mFile \u001b[39m\u001b[32m/opt/anaconda3/envs/PA-Venv/lib/python3.13/site-packages/mysql/connector/connection_cext.py:772\u001b[39m, in \u001b[36mCMySQLConnection.cmd_query\u001b[39m\u001b[34m(self, query, raw, buffered, raw_as_string, **kwargs)\u001b[39m\n\u001b[32m    770\u001b[39m     \u001b[38;5;28mself\u001b[39m._local_infile_filenames = \u001b[38;5;28;01mNone\u001b[39;00m\n\u001b[32m--> \u001b[39m\u001b[32m772\u001b[39m     \u001b[38;5;28;43mself\u001b[39;49m\u001b[43m.\u001b[49m\u001b[43m_cmysql\u001b[49m\u001b[43m.\u001b[49m\u001b[43mquery\u001b[49m\u001b[43m(\u001b[49m\n\u001b[32m    773\u001b[39m \u001b[43m        \u001b[49m\u001b[43mquery\u001b[49m\u001b[43m,\u001b[49m\n\u001b[32m    774\u001b[39m \u001b[43m        \u001b[49m\u001b[43mraw\u001b[49m\u001b[43m=\u001b[49m\u001b[43mraw\u001b[49m\u001b[43m,\u001b[49m\n\u001b[32m    775\u001b[39m \u001b[43m        \u001b[49m\u001b[43mbuffered\u001b[49m\u001b[43m=\u001b[49m\u001b[43mbuffered\u001b[49m\u001b[43m,\u001b[49m\n\u001b[32m    776\u001b[39m \u001b[43m        \u001b[49m\u001b[43mraw_as_string\u001b[49m\u001b[43m=\u001b[49m\u001b[43mraw_as_string\u001b[49m\u001b[43m,\u001b[49m\n\u001b[32m    777\u001b[39m \u001b[43m        \u001b[49m\u001b[43mquery_attrs\u001b[49m\u001b[43m=\u001b[49m\u001b[38;5;28;43mself\u001b[39;49m\u001b[43m.\u001b[49m\u001b[43mquery_attrs\u001b[49m\u001b[43m,\u001b[49m\n\u001b[32m    778\u001b[39m \u001b[43m    \u001b[49m\u001b[43m)\u001b[49m\n\u001b[32m    779\u001b[39m \u001b[38;5;28;01mexcept\u001b[39;00m MySQLInterfaceError \u001b[38;5;28;01mas\u001b[39;00m err:\n",
            "\u001b[31mMySQLInterfaceError\u001b[39m: Duplicate column name 'email'",
            "\nThe above exception was the direct cause of the following exception:\n",
            "\u001b[31mProgrammingError\u001b[39m                          Traceback (most recent call last)",
            "\u001b[36mCell\u001b[39m\u001b[36m \u001b[39m\u001b[32mIn[72]\u001b[39m\u001b[32m, line 8\u001b[39m\n\u001b[32m      2\u001b[39m alter_query = \u001b[33m'''\u001b[39m\n\u001b[32m      3\u001b[39m \u001b[33mALTER TABLE farmers_market.volunteers\u001b[39m\n\u001b[32m      4\u001b[39m \u001b[33m    ADD COLUMN email VARCHAR(100);\u001b[39m\n\u001b[32m      5\u001b[39m \u001b[33m'''\u001b[39m\n\u001b[32m      7\u001b[39m cursor = conn.cursor()\n\u001b[32m----> \u001b[39m\u001b[32m8\u001b[39m \u001b[43mcursor\u001b[49m\u001b[43m.\u001b[49m\u001b[43mexecute\u001b[49m\u001b[43m(\u001b[49m\u001b[43malter_query\u001b[49m\u001b[43m)\u001b[49m\n\u001b[32m      9\u001b[39m conn.commit()\n\u001b[32m     10\u001b[39m cursor.close()\n",
            "\u001b[36mFile \u001b[39m\u001b[32m/opt/anaconda3/envs/PA-Venv/lib/python3.13/site-packages/mysql/connector/cursor_cext.py:353\u001b[39m, in \u001b[36mCMySQLCursor.execute\u001b[39m\u001b[34m(self, operation, params, map_results)\u001b[39m\n\u001b[32m    345\u001b[39m \u001b[38;5;28mself\u001b[39m._executed = (\n\u001b[32m    346\u001b[39m     \u001b[38;5;28mself\u001b[39m._stmt_partition[\u001b[33m\"\u001b[39m\u001b[33msingle_stmts\u001b[39m\u001b[33m\"\u001b[39m].popleft()\n\u001b[32m    347\u001b[39m     \u001b[38;5;28;01mif\u001b[39;00m map_results\n\u001b[32m    348\u001b[39m     \u001b[38;5;28;01melse\u001b[39;00m \u001b[38;5;28mself\u001b[39m._stmt_partition[\u001b[33m\"\u001b[39m\u001b[33mmappable_stmt\u001b[39m\u001b[33m\"\u001b[39m]\n\u001b[32m    349\u001b[39m )\n\u001b[32m    351\u001b[39m \u001b[38;5;28;01mtry\u001b[39;00m:\n\u001b[32m    352\u001b[39m     \u001b[38;5;28mself\u001b[39m._handle_result(\n\u001b[32m--> \u001b[39m\u001b[32m353\u001b[39m         \u001b[38;5;28;43mself\u001b[39;49m\u001b[43m.\u001b[49m\u001b[43m_connection\u001b[49m\u001b[43m.\u001b[49m\u001b[43mcmd_query\u001b[49m\u001b[43m(\u001b[49m\n\u001b[32m    354\u001b[39m \u001b[43m            \u001b[49m\u001b[38;5;28;43mself\u001b[39;49m\u001b[43m.\u001b[49m\u001b[43m_stmt_partition\u001b[49m\u001b[43m[\u001b[49m\u001b[33;43m\"\u001b[39;49m\u001b[33;43mmappable_stmt\u001b[39;49m\u001b[33;43m\"\u001b[39;49m\u001b[43m]\u001b[49m\u001b[43m,\u001b[49m\n\u001b[32m    355\u001b[39m \u001b[43m            \u001b[49m\u001b[43mraw\u001b[49m\u001b[43m=\u001b[49m\u001b[38;5;28;43mself\u001b[39;49m\u001b[43m.\u001b[49m\u001b[43m_raw\u001b[49m\u001b[43m,\u001b[49m\n\u001b[32m    356\u001b[39m \u001b[43m            \u001b[49m\u001b[43mbuffered\u001b[49m\u001b[43m=\u001b[49m\u001b[38;5;28;43mself\u001b[39;49m\u001b[43m.\u001b[49m\u001b[43m_buffered\u001b[49m\u001b[43m,\u001b[49m\n\u001b[32m    357\u001b[39m \u001b[43m            \u001b[49m\u001b[43mraw_as_string\u001b[49m\u001b[43m=\u001b[49m\u001b[38;5;28;43mself\u001b[39;49m\u001b[43m.\u001b[49m\u001b[43m_raw_as_string\u001b[49m\u001b[43m,\u001b[49m\n\u001b[32m    358\u001b[39m \u001b[43m        \u001b[49m\u001b[43m)\u001b[49m\n\u001b[32m    359\u001b[39m     )\n\u001b[32m    360\u001b[39m \u001b[38;5;28;01mexcept\u001b[39;00m MySQLInterfaceError \u001b[38;5;28;01mas\u001b[39;00m err:\n\u001b[32m    361\u001b[39m     \u001b[38;5;28;01mif\u001b[39;00m \u001b[38;5;28mhasattr\u001b[39m(err, \u001b[33m\"\u001b[39m\u001b[33merrno\u001b[39m\u001b[33m\"\u001b[39m):\n",
            "\u001b[36mFile \u001b[39m\u001b[32m/opt/anaconda3/envs/PA-Venv/lib/python3.13/site-packages/mysql/connector/opentelemetry/context_propagation.py:97\u001b[39m, in \u001b[36mwith_context_propagation.<locals>.wrapper\u001b[39m\u001b[34m(cnx, *args, **kwargs)\u001b[39m\n\u001b[32m     95\u001b[39m \u001b[38;5;66;03m# pylint: disable=possibly-used-before-assignment\u001b[39;00m\n\u001b[32m     96\u001b[39m \u001b[38;5;28;01mif\u001b[39;00m \u001b[38;5;129;01mnot\u001b[39;00m OTEL_ENABLED \u001b[38;5;129;01mor\u001b[39;00m \u001b[38;5;129;01mnot\u001b[39;00m cnx.otel_context_propagation:\n\u001b[32m---> \u001b[39m\u001b[32m97\u001b[39m     \u001b[38;5;28;01mreturn\u001b[39;00m \u001b[43mmethod\u001b[49m\u001b[43m(\u001b[49m\u001b[43mcnx\u001b[49m\u001b[43m,\u001b[49m\u001b[43m \u001b[49m\u001b[43m*\u001b[49m\u001b[43margs\u001b[49m\u001b[43m,\u001b[49m\u001b[43m \u001b[49m\u001b[43m*\u001b[49m\u001b[43m*\u001b[49m\u001b[43mkwargs\u001b[49m\u001b[43m)\u001b[49m\n\u001b[32m     99\u001b[39m current_span = trace.get_current_span()\n\u001b[32m    100\u001b[39m tp_header = \u001b[38;5;28;01mNone\u001b[39;00m\n",
            "\u001b[36mFile \u001b[39m\u001b[32m/opt/anaconda3/envs/PA-Venv/lib/python3.13/site-packages/mysql/connector/connection_cext.py:781\u001b[39m, in \u001b[36mCMySQLConnection.cmd_query\u001b[39m\u001b[34m(self, query, raw, buffered, raw_as_string, **kwargs)\u001b[39m\n\u001b[32m    779\u001b[39m \u001b[38;5;28;01mexcept\u001b[39;00m MySQLInterfaceError \u001b[38;5;28;01mas\u001b[39;00m err:\n\u001b[32m    780\u001b[39m     \u001b[38;5;28;01mif\u001b[39;00m \u001b[38;5;28mhasattr\u001b[39m(err, \u001b[33m\"\u001b[39m\u001b[33merrno\u001b[39m\u001b[33m\"\u001b[39m):\n\u001b[32m--> \u001b[39m\u001b[32m781\u001b[39m         \u001b[38;5;28;01mraise\u001b[39;00m get_mysql_exception(\n\u001b[32m    782\u001b[39m             err.errno, msg=err.msg, sqlstate=err.sqlstate\n\u001b[32m    783\u001b[39m         ) \u001b[38;5;28;01mfrom\u001b[39;00m\u001b[38;5;250m \u001b[39m\u001b[34;01merr\u001b[39;00m\n\u001b[32m    784\u001b[39m     \u001b[38;5;28;01mraise\u001b[39;00m InterfaceError(\u001b[38;5;28mstr\u001b[39m(err)) \u001b[38;5;28;01mfrom\u001b[39;00m\u001b[38;5;250m \u001b[39m\u001b[34;01merr\u001b[39;00m\n\u001b[32m    785\u001b[39m \u001b[38;5;28;01mexcept\u001b[39;00m \u001b[38;5;167;01mAttributeError\u001b[39;00m \u001b[38;5;28;01mas\u001b[39;00m err:\n",
            "\u001b[31mProgrammingError\u001b[39m: 1060 (42S21): Duplicate column name 'email'"
          ]
        }
      ],
      "source": [
        "# Example: Add columns to the volunteers table\n",
        "alter_query = '''\n",
        "ALTER TABLE farmers_market.volunteers\n",
        "    ADD COLUMN email VARCHAR(100);\n",
        "'''\n",
        "\n",
        "cursor = conn.cursor()\n",
        "cursor.execute(alter_query)\n",
        "conn.commit()\n",
        "cursor.close()\n",
        "print(\"Columns 'email' added to the 'volunteers' table successfully.\")"
      ]
    },
    {
      "cell_type": "markdown",
      "id": "77655886",
      "metadata": {},
      "source": [
        "### Now let's focus on DML (Data Manipulation Language)"
      ]
    },
    {
      "cell_type": "markdown",
      "metadata": {},
      "source": [
        "## DML: INSERT\n",
        "\n",
        "Use `INSERT INTO` to add a new row of data."
      ]
    },
    {
      "cell_type": "code",
      "execution_count": 73,
      "metadata": {},
      "outputs": [
        {
          "name": "stdout",
          "output_type": "stream",
          "text": [
            "Inserted new volunteer: 'John Doe'\n"
          ]
        }
      ],
      "source": [
        "# Example: Insert new volunteer\n",
        "insert_query = '''\n",
        "INSERT INTO farmers_market.volunteers (volunteer_name, volunteer_last_name, email)\n",
        "VALUES ('John', 'Doe', 'john.doe@example.com');\n",
        "'''\n",
        "cursor = conn.cursor()\n",
        "cursor.execute(insert_query)\n",
        "conn.commit()\n",
        "cursor.close()\n",
        "print(\"Inserted new volunteer: 'John Doe'\")"
      ]
    },
    {
      "cell_type": "markdown",
      "metadata": {},
      "source": [
        "## DML: UPDATE\n",
        "\n",
        "Use `UPDATE` to modify data in existing records."
      ]
    },
    {
      "cell_type": "code",
      "execution_count": 74,
      "metadata": {},
      "outputs": [
        {
          "name": "stdout",
          "output_type": "stream",
          "text": [
            "Updated volunteer's email and number.\n"
          ]
        }
      ],
      "source": [
        "# Example: Update a volunteer's email and number\n",
        "update_query = '''\n",
        "UPDATE farmers_market.volunteers\n",
        "SET email = 'john.newemail@example.com'\n",
        "WHERE volunteer_name = 'John' AND volunteer_last_name = 'Doe';\n",
        "'''\n",
        "cursor = conn.cursor()\n",
        "cursor.execute(update_query)\n",
        "conn.commit()\n",
        "cursor.close()\n",
        "print(\"Updated volunteer's email and number.\")"
      ]
    },
    {
      "cell_type": "markdown",
      "metadata": {},
      "source": [
        "## DML: DELETE\n",
        "\n",
        "Use `DELETE FROM` to remove rows from a table."
      ]
    },
    {
      "cell_type": "code",
      "execution_count": 75,
      "metadata": {},
      "outputs": [
        {
          "name": "stdout",
          "output_type": "stream",
          "text": [
            "Deleted volunteer: 'John Doe'\n"
          ]
        }
      ],
      "source": [
        "# Example: Delete a volunteer by name\n",
        "delete_query = '''\n",
        "DELETE FROM farmers_market.volunteers\n",
        "WHERE volunteer_name = 'John' AND volunteer_last_name = 'Doe';\n",
        "'''\n",
        "cursor = conn.cursor()\n",
        "cursor.execute(delete_query)\n",
        "conn.commit()\n",
        "cursor.close()\n",
        "print(\"Deleted volunteer: 'John Doe'\")"
      ]
    },
    {
      "cell_type": "markdown",
      "id": "bd3f8399",
      "metadata": {},
      "source": [
        "## Creating a user using SQL Command\n",
        "\n",
        "\n",
        "## DCL: GRANT and REVOKE\n",
        "\n",
        "The `GRANT` statement provides access privileges to users, while `REVOKE` removes them.\n",
        "\n",
        "```sql\n",
        "GRANT SELECT ON farmers_market.product TO 'analyst'@'localhost';\n",
        "REVOKE SELECT ON farmers_market.product FROM 'analyst'@'localhost';\n",
        "```\n",
        "\n",
        "**Note:** These commands require administrative privileges and are typically executed by DBAs."
      ]
    },
    {
      "cell_type": "code",
      "execution_count": 76,
      "id": "4d42435d",
      "metadata": {},
      "outputs": [
        {
          "name": "stdout",
          "output_type": "stream",
          "text": [
            "User created, privileges granted, and changes applied successfully.\n"
          ]
        }
      ],
      "source": [
        "\n",
        "# Define the queries\n",
        "drop_user_query = \"DROP USER IF EXISTS 'vitamin'@'localhost';\"\n",
        "create_user_query = \"CREATE USER 'vitamin'@'localhost' IDENTIFIED BY 'new_password';\"\n",
        "grant_privileges_query = \"GRANT SELECT ON farmers_market.volunteers TO 'vitamin'@'localhost';\"\n",
        "flush_privileges_query = \"FLUSH PRIVILEGES;\"\n",
        "\n",
        "cursor = conn.cursor()\n",
        "# Execute the queries\n",
        "cursor.execute(drop_user_query)\n",
        "cursor.execute(create_user_query)\n",
        "cursor.execute(grant_privileges_query)\n",
        "# cursor.execute(flush_privileges_query)\n",
        "\n",
        "print(\"User created, privileges granted, and changes applied successfully.\")\n",
        "\n",
        "cursor.close()\n",
        "conn.close()"
      ]
    }
  ],
  "metadata": {
    "kernelspec": {
      "display_name": "PA-Venv",
      "language": "python",
      "name": "python3"
    },
    "language_info": {
      "codemirror_mode": {
        "name": "ipython",
        "version": 3
      },
      "file_extension": ".py",
      "mimetype": "text/x-python",
      "name": "python",
      "nbconvert_exporter": "python",
      "pygments_lexer": "ipython3",
      "version": "3.13.5"
    }
  },
  "nbformat": 4,
  "nbformat_minor": 5
}

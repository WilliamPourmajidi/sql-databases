{
  "cells": [
    {
      "cell_type": "markdown",
      "metadata": {},
      "source": [
        "# Module 5: Beyond Query Language — DDL, DML, and DCL\n",
        "\n",
        "This notebook introduces the SQL sublanguages beyond querying:  \n",
        "- DDL (Data Definition Language)  \n",
        "- DML (Data Manipulation Language)  \n",
        "- DCL (Data Control Language)\n",
        "\n",
        "We will explain each concept and demonstrate its use with SQL commands against the `farmers_market` database."
      ]
    },
    {
      "cell_type": "code",
      "execution_count": 47,
      "metadata": {},
      "outputs": [
        {
          "name": "stdout",
          "output_type": "stream",
          "text": [
            "Successfully connected to farmers_market!\n"
          ]
        }
      ],
      "source": [
        "import mysql.connector\n",
        "import pandas as pd\n",
        "\n",
        "# Establish connection to local MySQL server\n",
        "conn = mysql.connector.connect(\n",
        "    host=\"localhost\",\n",
        "    user=\"root\",  # Never use root in production\n",
        "    password=\"William2025!!\",  # Replace with secure credentials\n",
        "    database=\"farmers_market\"\n",
        ")\n",
        "\n",
        "cursor = conn.cursor()\n",
        "print(f\"Successfully connected to {conn.database}!\")"
      ]
    },
    {
      "cell_type": "markdown",
      "metadata": {},
      "source": [
        "## SQL Sublanguages Overview\n",
        "\n",
        "SQL is divided into several sublanguages:\n",
        "\n",
        "- **DQL** (Data Query Language): `SELECT` — used for reading data (covered in Modules 3 & 4)\n",
        "- **DDL** (Data Definition Language): `CREATE`, `DROP`, `ALTER` — defines structure\n",
        "- **DML** (Data Manipulation Language): `INSERT`, `UPDATE`, `DELETE` — modifies data\n",
        "- **DCL** (Data Control Language): `GRANT`, `REVOKE` — controls access to data"
      ]
    },
    {
      "cell_type": "markdown",
      "metadata": {},
      "source": [
        "## DDL: CREATE VIEW\n",
        "\n",
        "## Difference Between Tables and Views\n",
        "\n",
        "**Tables:**\n",
        "- Physically store data in the database.\n",
        "- Can be modified directly with INSERT, UPDATE, and DELETE statements.\n",
        "- Used for persistent storage of structured data.\n",
        "\n",
        "**Views:**\n",
        "- Are virtual tables based on the result of a SQL query.\n",
        "- Do not store data themselves; they display data from one or more tables.\n",
        "- Cannot always be modified directly (depends on the view definition and database rules).\n",
        "- Useful for simplifying complex queries, providing security, and presenting data in a specific format.\n",
        "\n",
        "\n",
        "We define a new view using the `CREATE VIEW` command.\n",
        "The example below creates a view based on a multi-table join (booth + vendor assignments + vendor).\n",
        "\n"
      ]
    },
    {
      "cell_type": "code",
      "execution_count": 21,
      "metadata": {},
      "outputs": [
        {
          "name": "stdout",
          "output_type": "stream",
          "text": [
            "View 'booth_date_vendors' created successfully.\n"
          ]
        }
      ],
      "source": [
        "# Create a view for vendor booth assignments\n",
        "query = '''\n",
        "CREATE OR REPLACE VIEW farmers_market.booth_date_vendors AS\n",
        "SELECT\n",
        "    b.booth_number,\n",
        "    b.booth_type,\n",
        "    vba.market_date,\n",
        "    v.vendor_id,\n",
        "    v.vendor_name\n",
        "FROM farmers_market.booth AS b\n",
        "LEFT JOIN farmers_market.vendor_booth_assignments AS vba ON b.booth_number = vba.booth_number\n",
        "LEFT JOIN farmers_market.vendor AS v ON v.vendor_id = vba.vendor_id;\n",
        "'''\n",
        "\n",
        "cursor = conn.cursor()\n",
        "cursor.execute(query)\n",
        "cursor.close()\n",
        "print(\"View 'booth_date_vendors' created successfully.\")"
      ]
    },
    {
      "cell_type": "markdown",
      "id": "ff7cc1f3",
      "metadata": {},
      "source": [
        "### Retrive Data from View"
      ]
    },
    {
      "cell_type": "code",
      "execution_count": 22,
      "metadata": {},
      "outputs": [
        {
          "data": {
            "text/html": [
              "<div>\n",
              "<style scoped>\n",
              "    .dataframe tbody tr th:only-of-type {\n",
              "        vertical-align: middle;\n",
              "    }\n",
              "\n",
              "    .dataframe tbody tr th {\n",
              "        vertical-align: top;\n",
              "    }\n",
              "\n",
              "    .dataframe thead th {\n",
              "        text-align: right;\n",
              "    }\n",
              "</style>\n",
              "<table border=\"1\" class=\"dataframe\">\n",
              "  <thead>\n",
              "    <tr style=\"text-align: right;\">\n",
              "      <th></th>\n",
              "      <th>booth_number</th>\n",
              "      <th>booth_type</th>\n",
              "      <th>market_date</th>\n",
              "      <th>vendor_id</th>\n",
              "      <th>vendor_name</th>\n",
              "    </tr>\n",
              "  </thead>\n",
              "  <tbody>\n",
              "    <tr>\n",
              "      <th>0</th>\n",
              "      <td>1</td>\n",
              "      <td>Standard</td>\n",
              "      <td>2019-04-03</td>\n",
              "      <td>3</td>\n",
              "      <td>Mountain View Vegetables</td>\n",
              "    </tr>\n",
              "    <tr>\n",
              "      <th>1</th>\n",
              "      <td>1</td>\n",
              "      <td>Standard</td>\n",
              "      <td>2019-04-06</td>\n",
              "      <td>3</td>\n",
              "      <td>Mountain View Vegetables</td>\n",
              "    </tr>\n",
              "    <tr>\n",
              "      <th>2</th>\n",
              "      <td>1</td>\n",
              "      <td>Standard</td>\n",
              "      <td>2019-04-10</td>\n",
              "      <td>3</td>\n",
              "      <td>Mountain View Vegetables</td>\n",
              "    </tr>\n",
              "    <tr>\n",
              "      <th>3</th>\n",
              "      <td>1</td>\n",
              "      <td>Standard</td>\n",
              "      <td>2019-04-13</td>\n",
              "      <td>3</td>\n",
              "      <td>Mountain View Vegetables</td>\n",
              "    </tr>\n",
              "    <tr>\n",
              "      <th>4</th>\n",
              "      <td>1</td>\n",
              "      <td>Standard</td>\n",
              "      <td>2019-04-17</td>\n",
              "      <td>3</td>\n",
              "      <td>Mountain View Vegetables</td>\n",
              "    </tr>\n",
              "    <tr>\n",
              "      <th>5</th>\n",
              "      <td>1</td>\n",
              "      <td>Standard</td>\n",
              "      <td>2019-04-20</td>\n",
              "      <td>3</td>\n",
              "      <td>Mountain View Vegetables</td>\n",
              "    </tr>\n",
              "    <tr>\n",
              "      <th>6</th>\n",
              "      <td>1</td>\n",
              "      <td>Standard</td>\n",
              "      <td>2019-04-24</td>\n",
              "      <td>3</td>\n",
              "      <td>Mountain View Vegetables</td>\n",
              "    </tr>\n",
              "    <tr>\n",
              "      <th>7</th>\n",
              "      <td>1</td>\n",
              "      <td>Standard</td>\n",
              "      <td>2019-04-27</td>\n",
              "      <td>3</td>\n",
              "      <td>Mountain View Vegetables</td>\n",
              "    </tr>\n",
              "    <tr>\n",
              "      <th>8</th>\n",
              "      <td>1</td>\n",
              "      <td>Standard</td>\n",
              "      <td>2019-05-01</td>\n",
              "      <td>3</td>\n",
              "      <td>Mountain View Vegetables</td>\n",
              "    </tr>\n",
              "    <tr>\n",
              "      <th>9</th>\n",
              "      <td>1</td>\n",
              "      <td>Standard</td>\n",
              "      <td>2019-05-04</td>\n",
              "      <td>3</td>\n",
              "      <td>Mountain View Vegetables</td>\n",
              "    </tr>\n",
              "  </tbody>\n",
              "</table>\n",
              "</div>"
            ],
            "text/plain": [
              "   booth_number booth_type market_date  vendor_id               vendor_name\n",
              "0             1   Standard  2019-04-03          3  Mountain View Vegetables\n",
              "1             1   Standard  2019-04-06          3  Mountain View Vegetables\n",
              "2             1   Standard  2019-04-10          3  Mountain View Vegetables\n",
              "3             1   Standard  2019-04-13          3  Mountain View Vegetables\n",
              "4             1   Standard  2019-04-17          3  Mountain View Vegetables\n",
              "5             1   Standard  2019-04-20          3  Mountain View Vegetables\n",
              "6             1   Standard  2019-04-24          3  Mountain View Vegetables\n",
              "7             1   Standard  2019-04-27          3  Mountain View Vegetables\n",
              "8             1   Standard  2019-05-01          3  Mountain View Vegetables\n",
              "9             1   Standard  2019-05-04          3  Mountain View Vegetables"
            ]
          },
          "execution_count": 22,
          "metadata": {},
          "output_type": "execute_result"
        }
      ],
      "source": [
        "# Retrieve data from the view\n",
        "query = \"SELECT * FROM farmers_market.booth_date_vendors LIMIT 10;\"\n",
        "cursor = conn.cursor()\n",
        "cursor.execute(query)\n",
        "df_view = pd.DataFrame(cursor.fetchall(), columns=[desc[0] for desc in cursor.description])\n",
        "cursor.close()\n",
        "df_view"
      ]
    },
    {
      "cell_type": "markdown",
      "id": "d18b17a8",
      "metadata": {},
      "source": [
        "## DDL: CREATE TABLE\n",
        "\n",
        "We define a new table using the `CREATE TABLE` command.\n",
        "The example below creates a view based on a multi-table join (booth + vendor assignments + vendor)."
      ]
    },
    {
      "cell_type": "code",
      "execution_count": 26,
      "id": "8567f65a",
      "metadata": {},
      "outputs": [
        {
          "name": "stdout",
          "output_type": "stream",
          "text": [
            "Table 'volunteers' created successfully.\n"
          ]
        }
      ],
      "source": [
        "# Create the volunteers table with three fields\n",
        "query = '''\n",
        "CREATE TABLE IF NOT EXISTS farmers_market.volunteers (\n",
        "    volunteer_id INT AUTO_INCREMENT PRIMARY KEY,\n",
        "    volunteer_name VARCHAR(50) NOT NULL,\n",
        "    volunteer_last_name VARCHAR(50) NOT NULL\n",
        ");\n",
        "'''\n",
        "\n",
        "cursor = conn.cursor()\n",
        "cursor.execute(query)\n",
        "conn.commit()\n",
        "cursor.close()\n",
        "print(\"Table 'volunteers' created successfully.\")"
      ]
    },
    {
      "cell_type": "markdown",
      "metadata": {},
      "source": [
        "## DDL: DROP TABLE\n",
        "\n",
        "The `DROP` statement permanently removes a table.  \n",
        " \n",
        "## RESTRICT vs CASCADE in DROP Statements\n",
        "\n",
        "- **RESTRICT:** Prevents the table or view from being dropped if it is referenced by another object (such as a foreign key or another view). The drop operation will fail if dependencies exist.\n",
        "- **CASCADE:** Automatically drops the table or view and all dependent objects (such as foreign key constraints, views, or other related objects). Use with caution, as this can remove more than just the specified object.\n",
        "\n",
        "**Example:**\n",
        "- `DROP TABLE my_table RESTRICT;` — Fails if other tables depend on `my_table`.\n",
        "- `DROP TABLE my_table CASCADE;` — Drops `my_table` and any dependent objects."
      ]
    },
    {
      "cell_type": "code",
      "execution_count": 25,
      "metadata": {},
      "outputs": [
        {
          "name": "stdout",
          "output_type": "stream",
          "text": [
            "DROP TABLE (RESTRICT option).\n"
          ]
        }
      ],
      "source": [
        "# Example: Drop table with RESTRICT or CASCADE (simulated, not executed)\n",
        "drop_query = \"DROP TABLE IF EXISTS farmers_market.volunteers RESTRICT;\"\n",
        "\n",
        "\n",
        "cursor = conn.cursor()\n",
        "cursor.execute(drop_query)   \n",
        "conn.commit()\n",
        "cursor.close()\n",
        "\n",
        "\n",
        "\n",
        "\n",
        "print(\"DROP TABLE (RESTRICT option).\")"
      ]
    },
    {
      "cell_type": "markdown",
      "metadata": {},
      "source": [
        "## DDL: ALTER TABLE\n",
        "\n",
        "The `ALTER TABLE` command allows you to modify the structure of existing tables."
      ]
    },
    {
      "cell_type": "code",
      "execution_count": 27,
      "id": "9610570f",
      "metadata": {},
      "outputs": [
        {
          "name": "stdout",
          "output_type": "stream",
          "text": [
            "Columns 'email' and 'number' added to the 'volunteers' table successfully.\n"
          ]
        }
      ],
      "source": [
        "# Example: Add columns to the volunteers table\n",
        "alter_query = '''\n",
        "ALTER TABLE farmers_market.volunteers\n",
        "    ADD COLUMN email VARCHAR(100),\n",
        "    ADD COLUMN number CHAR(10) CHECK (number REGEXP '^[0-9]{10}$');\n",
        "'''\n",
        "\n",
        "cursor = conn.cursor()\n",
        "cursor.execute(alter_query)\n",
        "conn.commit()\n",
        "cursor.close()\n",
        "print(\"Columns 'email' and 'number' added to the 'volunteers' table successfully.\")"
      ]
    },
    {
      "cell_type": "markdown",
      "id": "77655886",
      "metadata": {},
      "source": [
        "### Now let's focus on DML (Data Manipulation Language)"
      ]
    },
    {
      "cell_type": "markdown",
      "metadata": {},
      "source": [
        "## DML: INSERT\n",
        "\n",
        "Use `INSERT INTO` to add a new row of data."
      ]
    },
    {
      "cell_type": "code",
      "execution_count": 28,
      "metadata": {},
      "outputs": [
        {
          "name": "stdout",
          "output_type": "stream",
          "text": [
            "Inserted new volunteer: 'John Doe'\n"
          ]
        }
      ],
      "source": [
        "# Example: Insert new volunteer\n",
        "insert_query = '''\n",
        "INSERT INTO farmers_market.volunteers (volunteer_name, volunteer_last_name, email, number)\n",
        "VALUES ('John', 'Doe', 'john.doe@example.com', '1234567890');\n",
        "'''\n",
        "cursor = conn.cursor()\n",
        "cursor.execute(insert_query)\n",
        "conn.commit()\n",
        "cursor.close()\n",
        "print(\"Inserted new volunteer: 'John Doe'\")"
      ]
    },
    {
      "cell_type": "markdown",
      "metadata": {},
      "source": [
        "## DML: UPDATE\n",
        "\n",
        "Use `UPDATE` to modify data in existing records."
      ]
    },
    {
      "cell_type": "code",
      "execution_count": 14,
      "metadata": {},
      "outputs": [
        {
          "name": "stdout",
          "output_type": "stream",
          "text": [
            "Updated volunteer's email and number.\n"
          ]
        }
      ],
      "source": [
        "# Example: Update a volunteer's email and number\n",
        "update_query = '''\n",
        "UPDATE farmers_market.volunteers\n",
        "SET email = 'john.newemail@example.com', number = '0987654321'\n",
        "WHERE volunteer_name = 'John' AND volunteer_last_name = 'Doe';\n",
        "'''\n",
        "cursor = conn.cursor()\n",
        "cursor.execute(update_query)\n",
        "conn.commit()\n",
        "cursor.close()\n",
        "print(\"Updated volunteer's email and number.\")"
      ]
    },
    {
      "cell_type": "markdown",
      "metadata": {},
      "source": [
        "## DML: DELETE\n",
        "\n",
        "Use `DELETE FROM` to remove rows from a table."
      ]
    },
    {
      "cell_type": "code",
      "execution_count": 29,
      "metadata": {},
      "outputs": [
        {
          "name": "stdout",
          "output_type": "stream",
          "text": [
            "Deleted volunteer: 'John Doe'\n"
          ]
        }
      ],
      "source": [
        "# Example: Delete a volunteer by name\n",
        "delete_query = '''\n",
        "DELETE FROM farmers_market.volunteers\n",
        "WHERE volunteer_name = 'John' AND volunteer_last_name = 'Doe';\n",
        "'''\n",
        "cursor = conn.cursor()\n",
        "cursor.execute(delete_query)\n",
        "conn.commit()\n",
        "cursor.close()\n",
        "print(\"Deleted volunteer: 'John Doe'\")"
      ]
    },
    {
      "cell_type": "markdown",
      "id": "bd3f8399",
      "metadata": {},
      "source": [
        "## Creating a user using SQL Command\n",
        "\n",
        "\n",
        "## DCL: GRANT and REVOKE\n",
        "\n",
        "The `GRANT` statement provides access privileges to users, while `REVOKE` removes them.\n",
        "\n",
        "```sql\n",
        "GRANT SELECT ON farmers_market.product TO 'analyst'@'localhost';\n",
        "REVOKE SELECT ON farmers_market.product FROM 'analyst'@'localhost';\n",
        "```\n",
        "\n",
        "**Note:** These commands require administrative privileges and are typically executed by DBAs."
      ]
    },
    {
      "cell_type": "code",
      "execution_count": 48,
      "id": "4d42435d",
      "metadata": {},
      "outputs": [
        {
          "name": "stdout",
          "output_type": "stream",
          "text": [
            "User created, privileges granted, and changes applied successfully.\n"
          ]
        }
      ],
      "source": [
        "\n",
        "# Define the queries\n",
        "drop_user_query = \"DROP USER IF EXISTS 'new_user'@'localhost';\"\n",
        "create_user_query = \"CREATE USER 'new_user'@'localhost' IDENTIFIED BY 'new_password';\"\n",
        "grant_privileges_query = \"GRANT SELECT ON farmers_market.volunteers TO 'new_user'@'localhost';\"\n",
        "flush_privileges_query = \"FLUSH PRIVILEGES;\"\n",
        "\n",
        "cursor = conn.cursor()\n",
        "# Execute the queries\n",
        "cursor.execute(drop_user_query)\n",
        "cursor.execute(create_user_query)\n",
        "cursor.execute(grant_privileges_query)\n",
        "# cursor.execute(flush_privileges_query)\n",
        "\n",
        "print(\"User created, privileges granted, and changes applied successfully.\")\n",
        "\n",
        "cursor.close()\n",
        "conn.close()"
      ]
    }
  ],
  "metadata": {
    "kernelspec": {
      "display_name": "PA-Venv",
      "language": "python",
      "name": "python3"
    },
    "language_info": {
      "codemirror_mode": {
        "name": "ipython",
        "version": 3
      },
      "file_extension": ".py",
      "mimetype": "text/x-python",
      "name": "python",
      "nbconvert_exporter": "python",
      "pygments_lexer": "ipython3",
      "version": "3.13.5"
    }
  },
  "nbformat": 4,
  "nbformat_minor": 5
}

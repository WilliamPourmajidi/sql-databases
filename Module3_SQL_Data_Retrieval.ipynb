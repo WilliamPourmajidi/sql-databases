{
 "cells": [
  {
   "cell_type": "markdown",
   "id": "ca86a620",
   "metadata": {},
   "source": [
    "# Module 3: Data Retrieval with SQL (Farmer's Market Database)\n",
    "\n",
    "This notebook demonstrates key SQL data retrieval operations using Python and MySQL.\n",
    "We will use the Farmer’s Market database hosted locally on a MySQL server.\n",
    "Each section includes explanations and annotated code examples to reinforce learning.\n",
    "\n",
    "Before running this notebook, ensure:\n",
    "- MySQL Server is running on `localhost`\n",
    "- The `farmers_market` database is already imported\n",
    "- Python packages `mysql-connector-python` and `pandas` are installed\n"
   ]
  },
  {
   "cell_type": "code",
   "execution_count": 1,
   "id": "3254d60c",
   "metadata": {},
   "outputs": [],
   "source": [
    "# Install dependencies if needed (uncomment and run once)\n",
    "# !pip install mysql-connector-python pandas\n"
   ]
  },
  {
   "cell_type": "markdown",
   "id": "26950951",
   "metadata": {},
   "source": [
    "## Step 1: Connect to MySQL Server\n",
    "\n",
    "We use `mysql.connector` to connect to the local MySQL instance.\n",
    "Please replace the placeholders for `user` and `password` with your actual credentials.\n"
   ]
  },
  {
   "cell_type": "code",
   "execution_count": 4,
   "id": "e2bbf99f",
   "metadata": {},
   "outputs": [
    {
     "name": "stdout",
     "output_type": "stream",
     "text": [
      "Succesfully Connected to MySQL database!\n"
     ]
    }
   ],
   "source": [
    "import mysql.connector\n",
    "import pandas as pd\n",
    "\n",
    "# Establish connection to local MySQL server\n",
    "conn = mysql.connector.connect(\n",
    "    host=\"localhost\",\n",
    "    user=\"root\",       # very bad practice, never use root in production, never hardcode credentials!\n",
    "    password=\"William2025!!\",   # Replace with your MySQL password\n",
    "    database=\"farmers_market\"\n",
    ")\n",
    "\n",
    "cursor = conn.cursor()\n",
    "print(\"Succesfully Connected to MySQL database!\")"
   ]
  },
  {
   "cell_type": "markdown",
   "id": "f0f373f5",
   "metadata": {},
   "source": [
    "## The SELECT Statement\n",
    "\n",
    "The `SELECT` statement is used to retrieve data from one or more columns in a table.\n",
    "\n",
    "**Basic Syntax:**\n",
    "```sql\n",
    "SELECT column1, column2\n",
    "FROM schema.table;\n",
    "```\n",
    "\n",
    "Avoid using `SELECT *` in production queries. It's better to specify the needed columns explicitly.\n"
   ]
  },
  {
   "cell_type": "code",
   "execution_count": 20,
   "id": "b6ff0c3f",
   "metadata": {},
   "outputs": [
    {
     "data": {
      "text/html": [
       "<div>\n",
       "<style scoped>\n",
       "    .dataframe tbody tr th:only-of-type {\n",
       "        vertical-align: middle;\n",
       "    }\n",
       "\n",
       "    .dataframe tbody tr th {\n",
       "        vertical-align: top;\n",
       "    }\n",
       "\n",
       "    .dataframe thead th {\n",
       "        text-align: right;\n",
       "    }\n",
       "</style>\n",
       "<table border=\"1\" class=\"dataframe\">\n",
       "  <thead>\n",
       "    <tr style=\"text-align: right;\">\n",
       "      <th></th>\n",
       "      <th>customer_id</th>\n",
       "      <th>customer_first_name</th>\n",
       "      <th>customer_last_name</th>\n",
       "      <th>customer_zip</th>\n",
       "    </tr>\n",
       "  </thead>\n",
       "  <tbody>\n",
       "    <tr>\n",
       "      <th>0</th>\n",
       "      <td>1</td>\n",
       "      <td>Jane</td>\n",
       "      <td>Connor</td>\n",
       "      <td>22801</td>\n",
       "    </tr>\n",
       "    <tr>\n",
       "      <th>1</th>\n",
       "      <td>2</td>\n",
       "      <td>Manuel</td>\n",
       "      <td>Diaz</td>\n",
       "      <td>22821</td>\n",
       "    </tr>\n",
       "    <tr>\n",
       "      <th>2</th>\n",
       "      <td>3</td>\n",
       "      <td>Bob</td>\n",
       "      <td>Wilson</td>\n",
       "      <td>22821</td>\n",
       "    </tr>\n",
       "    <tr>\n",
       "      <th>3</th>\n",
       "      <td>4</td>\n",
       "      <td>Deanna</td>\n",
       "      <td>Washington</td>\n",
       "      <td>22801</td>\n",
       "    </tr>\n",
       "    <tr>\n",
       "      <th>4</th>\n",
       "      <td>5</td>\n",
       "      <td>Abigail</td>\n",
       "      <td>Harris</td>\n",
       "      <td>22801</td>\n",
       "    </tr>\n",
       "  </tbody>\n",
       "</table>\n",
       "</div>"
      ],
      "text/plain": [
       "   customer_id customer_first_name customer_last_name customer_zip\n",
       "0            1                Jane             Connor        22801\n",
       "1            2              Manuel               Diaz        22821\n",
       "2            3                 Bob             Wilson        22821\n",
       "3            4              Deanna         Washington        22801\n",
       "4            5             Abigail             Harris        22801"
      ]
     },
     "execution_count": 20,
     "metadata": {},
     "output_type": "execute_result"
    }
   ],
   "source": [
    "# Example: Select all columns from the customer table. Not wise for production use, but good for learning.\n",
    "query = '''\n",
    "SELECT * \n",
    "FROM customer;\n",
    "'''\n",
    "\n",
    "cursor.execute(query)\n",
    "df = pd.DataFrame(cursor.fetchall(), columns=[desc[0] for desc in cursor.description])\n",
    "df.head()"
   ]
  },
  {
   "cell_type": "code",
   "execution_count": 23,
   "id": "63506574",
   "metadata": {},
   "outputs": [
    {
     "data": {
      "text/html": [
       "<div>\n",
       "<style scoped>\n",
       "    .dataframe tbody tr th:only-of-type {\n",
       "        vertical-align: middle;\n",
       "    }\n",
       "\n",
       "    .dataframe tbody tr th {\n",
       "        vertical-align: top;\n",
       "    }\n",
       "\n",
       "    .dataframe thead th {\n",
       "        text-align: right;\n",
       "    }\n",
       "</style>\n",
       "<table border=\"1\" class=\"dataframe\">\n",
       "  <thead>\n",
       "    <tr style=\"text-align: right;\">\n",
       "      <th></th>\n",
       "      <th>vendor_id</th>\n",
       "      <th>vendor_name</th>\n",
       "      <th>vendor_type</th>\n",
       "    </tr>\n",
       "  </thead>\n",
       "  <tbody>\n",
       "    <tr>\n",
       "      <th>0</th>\n",
       "      <td>1</td>\n",
       "      <td>Chris's Sustainable Eggs &amp; Meats</td>\n",
       "      <td>Eggs &amp; Meats</td>\n",
       "    </tr>\n",
       "    <tr>\n",
       "      <th>1</th>\n",
       "      <td>2</td>\n",
       "      <td>Hernández Salsa &amp; Veggies</td>\n",
       "      <td>Fresh Variety: Veggies &amp; More</td>\n",
       "    </tr>\n",
       "    <tr>\n",
       "      <th>2</th>\n",
       "      <td>3</td>\n",
       "      <td>Mountain View Vegetables</td>\n",
       "      <td>Fresh Variety: Veggies &amp; More</td>\n",
       "    </tr>\n",
       "    <tr>\n",
       "      <th>3</th>\n",
       "      <td>4</td>\n",
       "      <td>Fields of Corn</td>\n",
       "      <td>Fresh Focused</td>\n",
       "    </tr>\n",
       "    <tr>\n",
       "      <th>4</th>\n",
       "      <td>5</td>\n",
       "      <td>Seashell Clay Shop</td>\n",
       "      <td>Arts &amp; Jewelry</td>\n",
       "    </tr>\n",
       "  </tbody>\n",
       "</table>\n",
       "</div>"
      ],
      "text/plain": [
       "   vendor_id                       vendor_name                    vendor_type\n",
       "0          1  Chris's Sustainable Eggs & Meats                   Eggs & Meats\n",
       "1          2         Hernández Salsa & Veggies  Fresh Variety: Veggies & More\n",
       "2          3          Mountain View Vegetables  Fresh Variety: Veggies & More\n",
       "3          4                    Fields of Corn                  Fresh Focused\n",
       "4          5                Seashell Clay Shop                 Arts & Jewelry"
      ]
     },
     "execution_count": 23,
     "metadata": {},
     "output_type": "execute_result"
    }
   ],
   "source": [
    "# Example: Select a few specific columns from the vendor table\n",
    "query = '''\n",
    "SELECT \n",
    "    vendor_id,\n",
    "    vendor_name,\n",
    "    vendor_type\n",
    "FROM vendor;\n",
    "'''\n",
    " \n",
    "\n",
    "cursor.execute(query)\n",
    "df = pd.DataFrame(cursor.fetchall(), columns=[desc[0] for desc in cursor.description])\n",
    "df.head()"
   ]
  },
  {
   "cell_type": "markdown",
   "id": "fc71947c",
   "metadata": {},
   "source": [
    "## 🔍 Filtering with WHERE Clause\n",
    "\n",
    "The `WHERE` clause filters rows based on specific conditions.\n",
    "\n",
    "**Example:**\n",
    "```sql\n",
    "SELECT *\n",
    "FROM farmers_market.customer\n",
    "WHERE customer_zip = '22802';\n",
    "```"
   ]
  },
  {
   "cell_type": "code",
   "execution_count": null,
   "id": "868e2828",
   "metadata": {},
   "outputs": [],
   "source": [
    "query = '''\n",
    "SELECT\n",
    "    customer_first_name,\n",
    "    customer_last_name,\n",
    "    customer_zip\n",
    "FROM farmers_market.customer\n",
    "WHERE customer_zip = '22802';\n",
    "'''\n",
    "\n",
    "cursor.execute(query)\n",
    "df = pd.DataFrame(cursor.fetchall(), columns=[desc[0] for desc in cursor.description])\n",
    "df"
   ]
  },
  {
   "cell_type": "markdown",
   "id": "c5fe7dae",
   "metadata": {},
   "source": [
    "## 🔢 ORDER BY and LIMIT Clauses\n",
    "\n",
    "- `ORDER BY` is used to sort the result set by one or more columns.\n",
    "- `LIMIT` restricts the number of returned rows.\n",
    "\n",
    "**Example:**\n",
    "```sql\n",
    "SELECT *\n",
    "FROM farmers_market.vendor\n",
    "ORDER BY vendor_name\n",
    "LIMIT 5;\n",
    "```"
   ]
  },
  {
   "cell_type": "code",
   "execution_count": null,
   "id": "b76d97fd",
   "metadata": {},
   "outputs": [],
   "source": [
    "query = '''\n",
    "SELECT\n",
    "    vendor_name,\n",
    "    vendor_type\n",
    "FROM farmers_market.vendor\n",
    "ORDER BY vendor_name ASC\n",
    "LIMIT 5;\n",
    "'''\n",
    "\n",
    "cursor.execute(query)\n",
    "df = pd.DataFrame(cursor.fetchall(), columns=[desc[0] for desc in cursor.description])\n",
    "df"
   ]
  },
  {
   "cell_type": "markdown",
   "id": "b9fad9fb",
   "metadata": {},
   "source": [
    "## 🧮 Inline Functions: Arithmetic and Aliasing\n",
    "\n",
    "Use inline functions to perform calculations directly in SQL.\n",
    "\n",
    "**Example:** Multiply quantity and price, round to 2 decimal points, and assign alias.\n",
    "```sql\n",
    "SELECT\n",
    "    ROUND(quantity * original_price, 2) AS inventory_in_dollars\n",
    "FROM farmers_market.vendor_inventory;\n",
    "```"
   ]
  },
  {
   "cell_type": "code",
   "execution_count": null,
   "id": "5c48d154",
   "metadata": {},
   "outputs": [],
   "source": [
    "query = '''\n",
    "SELECT\n",
    "    market_date,\n",
    "    vendor_id,\n",
    "    quantity,\n",
    "    original_price,\n",
    "    ROUND(quantity * original_price, 2) AS inventory_in_dollars\n",
    "FROM farmers_market.vendor_inventory\n",
    "ORDER BY inventory_in_dollars DESC\n",
    "LIMIT 5;\n",
    "'''\n",
    "\n",
    "cursor.execute(query)\n",
    "df = pd.DataFrame(cursor.fetchall(), columns=[desc[0] for desc in cursor.description])\n",
    "df"
   ]
  },
  {
   "cell_type": "markdown",
   "id": "c393fe12",
   "metadata": {},
   "source": [
    "## 🔤 String Functions: CONCAT\n",
    "\n",
    "You can merge string columns using `CONCAT()`.\n",
    "\n",
    "**Example:**\n",
    "```sql\n",
    "SELECT CONCAT(first_name, ' ', last_name) AS full_name FROM ...\n",
    "```"
   ]
  },
  {
   "cell_type": "code",
   "execution_count": null,
   "id": "d1608583",
   "metadata": {},
   "outputs": [],
   "source": [
    "query = '''\n",
    "SELECT\n",
    "    CONCAT(vendor_owner_first_name, \" \", vendor_owner_last_name) AS vendor_name,\n",
    "    vendor_type\n",
    "FROM farmers_market.vendor\n",
    "LIMIT 5;\n",
    "'''\n",
    "\n",
    "cursor.execute(query)\n",
    "df = pd.DataFrame(cursor.fetchall(), columns=[desc[0] for desc in cursor.description])\n",
    "df"
   ]
  },
  {
   "cell_type": "markdown",
   "id": "747da0eb",
   "metadata": {},
   "source": [
    "## ✅ Wrap Up\n",
    "\n",
    "We’ve covered:\n",
    "\n",
    "- SELECT statements\n",
    "- Filtering with WHERE\n",
    "- Sorting and limiting results\n",
    "- Inline arithmetic\n",
    "- String concatenation\n",
    "\n",
    "Don’t forget to close your DB connection after use.\n"
   ]
  },
  {
   "cell_type": "code",
   "execution_count": null,
   "id": "d958d682",
   "metadata": {},
   "outputs": [],
   "source": [
    "cursor.close()\n",
    "conn.close()\n",
    "print(\"🔒 MySQL connection closed.\")"
   ]
  }
 ],
 "metadata": {
  "kernelspec": {
   "display_name": "PA-Venv",
   "language": "python",
   "name": "python3"
  },
  "language_info": {
   "codemirror_mode": {
    "name": "ipython",
    "version": 3
   },
   "file_extension": ".py",
   "mimetype": "text/x-python",
   "name": "python",
   "nbconvert_exporter": "python",
   "pygments_lexer": "ipython3",
   "version": "3.13.5"
  }
 },
 "nbformat": 4,
 "nbformat_minor": 5
}
